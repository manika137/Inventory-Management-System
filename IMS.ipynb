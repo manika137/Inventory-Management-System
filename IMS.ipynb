{
  "nbformat": 4,
  "nbformat_minor": 0,
  "metadata": {
    "colab": {
      "name": "IMS",
      "provenance": []
    },
    "kernelspec": {
      "name": "python3",
      "display_name": "Python 3"
    },
    "language_info": {
      "name": "python"
    }
  },
  "cells": [
    {
      "cell_type": "code",
      "metadata": {
        "id": "xLHWbUnL66Ke"
      },
      "source": [
        "record={1:{\"pname\": \"Munch\", \"cost\": 5, \"NoOfProds\": 20},\n",
        "\t2:{\"pname\": \"Lays\", \"cost\": 20, \"NoOfProds\": 10},\n",
        "\t3:{\"pname\": \"Frooti\", \"cost\": 15, \"NoOfProds\": 50},   \n",
        "  4:{\"pname\": \"M\", \"cost\":5 , \"NoOfProds\":10} ,\n",
        "  5:{\"pname\": \"SnacLite\", \"cost\":20 , \"NoOfProds\":100},\n",
        "  6:{\"pname\": \"TakaTak\", \"cost\":10 , \"NoOfProds\":500},\n",
        "  7:{\"pname\": \"Jam\", \"cost\":50 , \"NoOfProds\":3},\n",
        "  8:{\"pname\": \"Nutella\", \"cost\":150 , \"NoOfProds\":50},\n",
        "  9:{\"pname\": \"Bread\", \"cost\":22 , \"NoOfProds\":40},\n",
        "  10:{\"pname\": \"Pasta\", \"cost\":25 , \"NoOfProds\":100},\n",
        "  11:{\"pname\": \"Maggi\", \"cost\":10 , \"NoOfProds\":4},\n",
        "  12:{\"pname\": \"Apple\", \"cost\":15 , \"NoOfProds\":6},\n",
        "  13:{\"pname\": \"Banana\", \"cost\":10 , \"NoOfProds\":8},\n",
        "  14:{\"pname\": \"Orange\", \"cost\":25 , \"NoOfProds\":30},\n",
        "  15:{\"pname\": \"Watermelon\", \"cost\":25 , \"NoOfProds\":5},\n",
        "  16:{\"pname\": \"Ice Cream\", \"cost\":25 , \"NoOfProds\":500},\n",
        "  17:{\"pname\": \"Cookies\", \"cost\":30 , \"NoOfProds\":2},\n",
        "  18:{\"pname\": \"Milk\", \"cost\":22 , \"NoOfProds\":20},\n",
        "  19:{\"pname\": \"Coffee\", \"cost\":10 , \"NoOfProds\":10},\n",
        "  20:{\"pname\": \"Egg\", \"cost\":20 , \"NoOfProds\":10},\n",
        "  21:{\"pname\": \"Cheese\", \"cost\":30 , \"NoOfProds\":34},\n",
        "  22:{\"pname\": \"Yoghurt\", \"cost\":29 , \"NoOfProds\":48},\n",
        "  23:{\"pname\": \"Oregano\", \"cost\":25 , \"NoOfProds\":103},\n",
        "  24:{\"pname\": \"Waffles\", \"cost\":15 , \"NoOfProds\":303},\n",
        "  25:{\"pname\": \"Garlic\", \"cost\":15 , \"NoOfProds\":6},\n",
        "  26:{\"pname\": \"Vermicelli\", \"cost\":15 , \"NoOfProds\":14},\n",
        "  27:{\"pname\": \"Mayonnaise\", \"cost\":35 , \"NoOfProds\":18},\n",
        "  28:{\"pname\": \"Ketchup\", \"cost\":55 , \"NoOfProds\":32},\n",
        "  29:{\"pname\": \"Soda\", \"cost\":25 , \"NoOfProds\":104},\n",
        "  30:{\"pname\": \"Flax seed\", \"cost\":25 , \"NoOfProds\":67}\n",
        "}"
      ],
      "execution_count": 32,
      "outputs": []
    },
    {
      "cell_type": "code",
      "metadata": {
        "id": "oaI_QnvL7LWF"
      },
      "source": [
        "import json"
      ],
      "execution_count": null,
      "outputs": []
    },
    {
      "cell_type": "code",
      "metadata": {
        "id": "5hPd_qQi9f_M"
      },
      "source": [
        "js=json.dumps(record)\n",
        "\n"
      ],
      "execution_count": null,
      "outputs": []
    },
    {
      "cell_type": "code",
      "metadata": {
        "id": "9xadNhBX9ypa"
      },
      "source": [
        "fd=open(\"record.json\",'w')\n",
        "fd.write(js)\n",
        "fd.close()"
      ],
      "execution_count": null,
      "outputs": []
    },
    {
      "cell_type": "code",
      "metadata": {
        "id": "YJdyJrUnAiBW"
      },
      "source": [
        "fd=open(\"record.json\",'r')\n",
        "txt=fd.read()\n",
        "fd.close()"
      ],
      "execution_count": null,
      "outputs": []
    },
    {
      "cell_type": "code",
      "metadata": {
        "id": "8eJWwqQqAiSt"
      },
      "source": [
        "record=json.loads(txt)"
      ],
      "execution_count": null,
      "outputs": []
    },
    {
      "cell_type": "code",
      "metadata": {
        "id": "Z-OWa-62BhgH"
      },
      "source": [
        "sales={\n",
        "          \"NoOfSales\":0,\n",
        "          \"TotCost\":0\n",
        "}"
      ],
      "execution_count": null,
      "outputs": []
    },
    {
      "cell_type": "code",
      "metadata": {
        "id": "uE4patm0VZdT"
      },
      "source": [
        "import json\n",
        "file=open('sales.json','w')\n",
        "json.dump(sales,file)"
      ],
      "execution_count": null,
      "outputs": []
    },
    {
      "cell_type": "code",
      "metadata": {
        "colab": {
          "base_uri": "https://localhost:8080/"
        },
        "id": "f2fVLJbZBhtP",
        "outputId": "a6d941d1-9ff6-4b69-eb6c-5d30f29fdd91"
      },
      "source": [
        "num=int(input(\"Enter number of products you want to buy\"))\n",
        "for j in range(0,num):\n",
        "    prod=input(\"Enter product name\")\n",
        "    quantity=int(input(\"Enter quantity\"))\n",
        "    for i in record:\n",
        "     # if quantity < record[i][\"NoOfProds\"]:\n",
        "        if record[i]['pname']==prod:\n",
        "         sales['TotCost']+=quantity*record[i]['cost']\n",
        "         print(\"COST:\", sales['TotCost'])\n",
        "         sales['NoOfSales']+=quantity\n",
        "         record[i]['NoOfProds']-=quantity\n",
        "\n",
        "      #else:\n",
        "       # print(\"SORRY, PRODUCT OUT OF STOCK!\")\n",
        "\n",
        "    "
      ],
      "execution_count": null,
      "outputs": [
        {
          "output_type": "stream",
          "name": "stdout",
          "text": [
            "Enter number of products you want to buy3\n",
            "Enter product nameMunch\n",
            "Enter quantity3\n",
            "COST: 45\n",
            "Enter product nameNutella\n",
            "Enter quantity2\n",
            "COST: 345\n",
            "Enter product namePasta\n",
            "Enter quantity3\n",
            "COST: 420\n"
          ]
        }
      ]
    },
    {
      "cell_type": "code",
      "metadata": {
        "id": "tclZq7WyyYHm",
        "colab": {
          "base_uri": "https://localhost:8080/"
        },
        "outputId": "82ec0b4d-c7ce-4254-b909-d8b477c2a7e1"
      },
      "source": [
        "char=input(\"Enter 'Y' if all grocery shopping is done and 'N' if you need to add more products\")\n",
        "if(char=='N'):\n",
        "  num=int(input(\"Enter number of products you want to buy\"))\n",
        "  for j in range(0,num):\n",
        "    prod=input(\"Enter product name\")\n",
        "    quantity=int(input(\"Enter quantity\"))\n",
        "   # if(quantity<record[i]['NoOfProds']):\n",
        "    sales['NoOfSales']+=quantity;\n",
        "    for i in record:\n",
        "        if(record[i]['pname']==prod):\n",
        "              sales['TotCost']+=quantity*record[i]['cost']\n",
        "              record[i]['NoOfProds']-=quantity\n",
        "              print (\"COST:\" ,sales['TotCost'])\n",
        "    #else:\n",
        "    #  print(\"SORRY, PRODUCT OUT OF STOCK!\")\n",
        "\n",
        "else:\n",
        "  import random\n",
        "  i=random.randrange(1,30)\n",
        "  print(\"Would you like to buy\", record[i][\"pname\"], \"?\")\n",
        "  char=input(\"Enter 'Y' for yes and 'N' for no\")\n",
        "  if(char=='Y'):\n",
        "    quantity=int(input(\"Enter quantity\"))\n",
        "    if(quantity<record[i]['NoOfProds']):\n",
        "      record[i]['NoOfProds']-=quantity\n",
        "      sales['TotCost']+=quantity*record[i]['cost']\n",
        "      print(\"COST:\", sales['TotCost'])\n",
        "    else:\n",
        "      print(\"SORRY, PRODUCT OUT OF STOCK!\")\n",
        "\n"
      ],
      "execution_count": 35,
      "outputs": [
        {
          "name": "stdout",
          "output_type": "stream",
          "text": [
            "Enter 'Y' if all grocery shopping is done and 'N' if you need to add more productsY\n",
            "Would you like to buy Lays ?\n",
            "Enter 'Y' for yes and 'N' for noN\n"
          ]
        }
      ]
    },
    {
      "cell_type": "code",
      "metadata": {
        "id": "QWvaUYaSyYWP",
        "colab": {
          "base_uri": "https://localhost:8080/"
        },
        "outputId": "0f1d096f-936e-4487-fabb-c3f4d56b127d"
      },
      "source": [
        "print(\"*******************************************************************************************\")\n",
        "print(\"                                            BILL\")\n",
        "\n",
        "from datetime import date\n",
        "today = date.today()\n",
        "\n",
        "from datetime import datetime\n",
        "now = datetime.now()\n",
        "current_time = now.strftime(\"%H:%M:%S\")\n",
        "\n",
        "print(\"BILLED ON\", today)\n",
        "print(\"TIME\",current_time)\n",
        "\n",
        "print()\n",
        "print()\n",
        "\n",
        "print(\"TOTAL NUMBER OF ITEMS BOUGHT:\",sales['NoOfSales'])\n",
        "print(\"TOTAL COST:\", sales['TotCost'])\n",
        "\n",
        "print()\n",
        "\n",
        "if(sales['TotCost']>=10 and sales['TotCost']<50):\n",
        "  discount=0.02\n",
        "  bill=sales['TotCost']*(1-discount)\n",
        "  print(\"YOU GET A SPECIAL DISCOUNT OF\", discount*100,\"% !!\")\n",
        "  print(\"YOUR TOTAL BILL:\",bill)\n",
        "\n",
        "elif (sales['TotCost']>=50 and sales['TotCost']<100):\n",
        "  discount=0.05\n",
        "  bill=sales['TotCost']*(1-discount)\n",
        "  print(\"YOU GET A SPECIAL DISCOUNT OF\", discount*100,\"% !!\")\n",
        "  print(\"YOUR TOTAL BILL:\",bill)\n",
        "\n",
        "elif (sales['TotCost']>=100 and sales['TotCost']<500):\n",
        "  discount=0.1\n",
        "  bill=sales['TotCost']*(1-discount)\n",
        "  print(\"YOU GET A SPECIAL DISCOUNT OF\", discount*100,\"% !!\")\n",
        "  print(\"YOUR TOTAL BILL:\",bill)\n",
        "\n",
        "else:\n",
        "  discount=0.15\n",
        "  bill=sales['TotCost']*(1-discount)\n",
        "  print(\"YOU GET A SPECIAL DISCOUNT OF\", discount*100,\"% !!\")\n",
        "  print(\"YOUR TOTAL BILL:\",bill)\n",
        "\n",
        "print()\n",
        "print(\"THANK YOU FOR SHOPPING WITH US!!\")\n",
        "print(\"HAVE A GREAT DAY\")\n"
      ],
      "execution_count": 37,
      "outputs": [
        {
          "output_type": "stream",
          "name": "stdout",
          "text": [
            "*******************************************************************************************\n",
            "                                            BILL\n",
            "BILLED ON 2021-09-06\n",
            "TIME 16:35:28\n",
            "\n",
            "\n",
            "TOTAL NUMBER OF ITEMS BOUGHT: 18\n",
            "TOTAL COST: 465\n",
            "\n",
            "YOU GET A SPECIAL DISCOUNT OF 10.0 % !!\n",
            "YOUR TOTAL BILL: 418.5\n",
            "\n",
            "THANK YOU FOR SHOPPING WITH US!!\n",
            "HAVE A GREAT DAY\n"
          ]
        }
      ]
    },
    {
      "cell_type": "code",
      "metadata": {
        "id": "5F41VOUdyYew"
      },
      "source": [
        ""
      ],
      "execution_count": 37,
      "outputs": []
    },
    {
      "cell_type": "code",
      "metadata": {
        "id": "WBpzcEduyYnw"
      },
      "source": [
        ""
      ],
      "execution_count": null,
      "outputs": []
    },
    {
      "cell_type": "code",
      "metadata": {
        "id": "nj3BJGLeyYw0"
      },
      "source": [
        ""
      ],
      "execution_count": null,
      "outputs": []
    },
    {
      "cell_type": "code",
      "metadata": {
        "id": "KEoNpgmnyY6l"
      },
      "source": [
        ""
      ],
      "execution_count": null,
      "outputs": []
    },
    {
      "cell_type": "code",
      "metadata": {
        "id": "8uWTM6hj6zbm"
      },
      "source": [
        ""
      ],
      "execution_count": null,
      "outputs": []
    },
    {
      "cell_type": "code",
      "metadata": {
        "id": "4YSghe546zqy"
      },
      "source": [
        ""
      ],
      "execution_count": null,
      "outputs": []
    }
  ]
}